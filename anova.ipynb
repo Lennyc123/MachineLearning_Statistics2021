{
 "cells": [
  {
   "cell_type": "markdown",
   "id": "bcba8d70",
   "metadata": {},
   "source": [
    "# ANOVA utilising *scipy.stats* & the *statsmodels* Python libraries\n",
    "\n",
    "--- "
   ]
  },
  {
   "cell_type": "markdown",
   "id": "53c0c7ef",
   "metadata": {},
   "source": [
    "**Analysis of variance (ANOVA)**  \n",
    "A one-way ANOVA is a test that is used to find out whether there exists a statistically significant difference between the mean values of more than one group.\n"
   ]
  },
  {
   "cell_type": "markdown",
   "id": "5c833984",
   "metadata": {},
   "source": [
    "### Importing the required libraries and modules"
   ]
  },
  {
   "cell_type": "code",
   "execution_count": 1,
   "id": "8a5bbc91",
   "metadata": {},
   "outputs": [],
   "source": [
    "#Numerical arrays & dataframes\n",
    "import numpy as np\n",
    "import pandas as pd\n",
    "\n",
    "#Plotting libraries\n",
    "import seaborn as sns\n",
    "import matplotlib.pyplot as plt\n",
    "\n",
    "#statistics\n",
    "import scipy.stats as ss\n",
    "\n",
    "#ANOVA\n",
    "from scipy.stats import f_oneway\n",
    "import statsmodels.api as sm\n",
    "from statsmodels.formula.api import ols"
   ]
  },
  {
   "cell_type": "markdown",
   "id": "75627d2f",
   "metadata": {},
   "source": [
    "### Parameters for enhancing the legibility of data visualisation i.e., graphs"
   ]
  },
  {
   "cell_type": "code",
   "execution_count": 2,
   "id": "a69d6004",
   "metadata": {},
   "outputs": [],
   "source": [
    "size=20\n",
    "params = {'legend.fontsize': 'large',\n",
    "          'figure.figsize': (20,5),\n",
    "          'axes.labelsize': size,\n",
    "          'axes.titlesize': size,\n",
    "          'xtick.labelsize': size*0.75,\n",
    "          'ytick.labelsize': size*0.75,\n",
    "          'axes.titlepad': 15}\n",
    "plt.rcParams.update(params)"
   ]
  },
  {
   "cell_type": "markdown",
   "id": "27b1e448",
   "metadata": {},
   "source": [
    "### Loading in the dataset "
   ]
  },
  {
   "cell_type": "code",
   "execution_count": 3,
   "id": "d81a86ca",
   "metadata": {},
   "outputs": [],
   "source": [
    "#The scikit-learn library has some embedded datasets that have already been preprocessed\n",
    "from sklearn.datasets import load_wine\n",
    "\n",
    "#Loading in the dataset as a pandas dataframe\n",
    "data = load_wine(as_frame = True)\n",
    "df = data.frame"
   ]
  },
  {
   "cell_type": "markdown",
   "id": "68006f9d",
   "metadata": {},
   "source": [
    "### Exploratory data analysis (EDA)"
   ]
  },
  {
   "cell_type": "markdown",
   "id": "18212c1f",
   "metadata": {},
   "source": [
    "#### Dataset description"
   ]
  },
  {
   "cell_type": "markdown",
   "id": "85481fb5",
   "metadata": {},
   "source": [
    "The data is the results of a chemical analysis of wines grown in the same region in Italy by three different cultivators. There are **thirteen** different\n",
    "measurements taken for different constituents found in the **three types of wine**."
   ]
  },
  {
   "cell_type": "code",
   "execution_count": 4,
   "id": "02de97d0",
   "metadata": {
    "scrolled": true
   },
   "outputs": [
    {
     "name": "stdout",
     "output_type": "stream",
     "text": [
      ".. _wine_dataset:\n",
      "\n",
      "Wine recognition dataset\n",
      "------------------------\n",
      "\n",
      "**Data Set Characteristics:**\n",
      "\n",
      "    :Number of Instances: 178 (50 in each of three classes)\n",
      "    :Number of Attributes: 13 numeric, predictive attributes and the class\n",
      "    :Attribute Information:\n",
      " \t\t- Alcohol\n",
      " \t\t- Malic acid\n",
      " \t\t- Ash\n",
      "\t\t- Alcalinity of ash  \n",
      " \t\t- Magnesium\n",
      "\t\t- Total phenols\n",
      " \t\t- Flavanoids\n",
      " \t\t- Nonflavanoid phenols\n",
      " \t\t- Proanthocyanins\n",
      "\t\t- Color intensity\n",
      " \t\t- Hue\n",
      " \t\t- OD280/OD315 of diluted wines\n",
      " \t\t- Proline\n",
      "\n",
      "    - class:\n",
      "            - class_0\n",
      "            - class_1\n",
      "            - class_2\n",
      "\t\t\n",
      "    :Summary Statistics:\n",
      "    \n",
      "    ============================= ==== ===== ======= =====\n",
      "                                   Min   Max   Mean     SD\n",
      "    ============================= ==== ===== ======= =====\n",
      "    Alcohol:                      11.0  14.8    13.0   0.8\n",
      "    Malic Acid:                   0.74  5.80    2.34  1.12\n",
      "    Ash:                          1.36  3.23    2.36  0.27\n",
      "    Alcalinity of Ash:            10.6  30.0    19.5   3.3\n",
      "    Magnesium:                    70.0 162.0    99.7  14.3\n",
      "    Total Phenols:                0.98  3.88    2.29  0.63\n",
      "    Flavanoids:                   0.34  5.08    2.03  1.00\n",
      "    Nonflavanoid Phenols:         0.13  0.66    0.36  0.12\n",
      "    Proanthocyanins:              0.41  3.58    1.59  0.57\n",
      "    Colour Intensity:              1.3  13.0     5.1   2.3\n",
      "    Hue:                          0.48  1.71    0.96  0.23\n",
      "    OD280/OD315 of diluted wines: 1.27  4.00    2.61  0.71\n",
      "    Proline:                       278  1680     746   315\n",
      "    ============================= ==== ===== ======= =====\n",
      "\n",
      "    :Missing Attribute Values: None\n",
      "    :Class Distribution: class_0 (59), class_1 (71), class_2 (48)\n",
      "    :Creator: R.A. Fisher\n",
      "    :Donor: Michael Marshall (MARSHALL%PLU@io.arc.nasa.gov)\n",
      "    :Date: July, 1988\n",
      "\n",
      "This is a copy of UCI ML Wine recognition datasets.\n",
      "https://archive.ics.uci.edu/ml/machine-learning-databases/wine/wine.data\n",
      "\n",
      "The data is the results of a chemical analysis of wines grown in the same\n",
      "region in Italy by three different cultivators. There are thirteen different\n",
      "measurements taken for different constituents found in the three types of\n",
      "wine.\n",
      "\n",
      "Original Owners: \n",
      "\n",
      "Forina, M. et al, PARVUS - \n",
      "An Extendible Package for Data Exploration, Classification and Correlation. \n",
      "Institute of Pharmaceutical and Food Analysis and Technologies,\n",
      "Via Brigata Salerno, 16147 Genoa, Italy.\n",
      "\n",
      "Citation:\n",
      "\n",
      "Lichman, M. (2013). UCI Machine Learning Repository\n",
      "[https://archive.ics.uci.edu/ml]. Irvine, CA: University of California,\n",
      "School of Information and Computer Science. \n",
      "\n",
      ".. topic:: References\n",
      "\n",
      "  (1) S. Aeberhard, D. Coomans and O. de Vel, \n",
      "  Comparison of Classifiers in High Dimensional Settings, \n",
      "  Tech. Rep. no. 92-02, (1992), Dept. of Computer Science and Dept. of  \n",
      "  Mathematics and Statistics, James Cook University of North Queensland. \n",
      "  (Also submitted to Technometrics). \n",
      "\n",
      "  The data was used with many others for comparing various \n",
      "  classifiers. The classes are separable, though only RDA \n",
      "  has achieved 100% correct classification. \n",
      "  (RDA : 100%, QDA 99.4%, LDA 98.9%, 1NN 96.1% (z-transformed data)) \n",
      "  (All results using the leave-one-out technique) \n",
      "\n",
      "  (2) S. Aeberhard, D. Coomans and O. de Vel, \n",
      "  \"THE CLASSIFICATION PERFORMANCE OF RDA\" \n",
      "  Tech. Rep. no. 92-01, (1992), Dept. of Computer Science and Dept. of \n",
      "  Mathematics and Statistics, James Cook University of North Queensland. \n",
      "  (Also submitted to Journal of Chemometrics).\n",
      "\n"
     ]
    }
   ],
   "source": [
    "print(data['DESCR'])"
   ]
  },
  {
   "cell_type": "markdown",
   "id": "0f68b7d1",
   "metadata": {},
   "source": [
    "#### Dataset sample sizes of each type of wine"
   ]
  },
  {
   "cell_type": "code",
   "execution_count": 5,
   "id": "c257bc02",
   "metadata": {
    "scrolled": true
   },
   "outputs": [
    {
     "name": "stdout",
     "output_type": "stream",
     "text": [
      "class_0\n",
      "class_1\n",
      "class_2\n"
     ]
    }
   ],
   "source": [
    "#How the different types of wine are defined within the dataset\n",
    "category = data.target_names\n",
    "for i in category:\n",
    "    print(i)"
   ]
  },
  {
   "cell_type": "code",
   "execution_count": 6,
   "id": "d63aee85",
   "metadata": {},
   "outputs": [
    {
     "data": {
      "text/plain": [
       "1    71\n",
       "0    59\n",
       "2    48\n",
       "Name: target, dtype: int64"
      ]
     },
     "execution_count": 6,
     "metadata": {},
     "output_type": "execute_result"
    }
   ],
   "source": [
    "#Counting the instances of each type of wine\n",
    "wine_category_count = df['target'].value_counts()\n",
    "wine_category_count"
   ]
  },
  {
   "cell_type": "markdown",
   "id": "828eeb8c",
   "metadata": {},
   "source": [
    "The above cells have informed of that within the dataset there are:\n",
    "- Three different types of wine\n",
    "    - 71 instances of class 1\n",
    "    - 59 instances of class 0\n",
    "    - 48 instances of class 2"
   ]
  },
  {
   "cell_type": "markdown",
   "id": "4e2ac3f4",
   "metadata": {},
   "source": [
    "### Reformatting the dataset to have equal sample sizes i.e., 45 instances of each wine type"
   ]
  },
  {
   "cell_type": "code",
   "execution_count": 7,
   "id": "36071171",
   "metadata": {},
   "outputs": [],
   "source": [
    "class0 = df[df['target'] == 0]\n",
    "class1 = df[df['target'] == 1]\n",
    "class2 = df[df['target'] == 2]"
   ]
  },
  {
   "cell_type": "code",
   "execution_count": 8,
   "id": "a6fe37e4",
   "metadata": {},
   "outputs": [],
   "source": [
    "#Creation of a seed for random number generation\n",
    "seed = 14\n",
    "\n",
    "#Creating a subset of the dataset with 45 instances of each wine type\n",
    "subset_class0 = class0.sample(45, random_state=seed)\n",
    "subset_class1 = class1.sample(45, random_state=seed)\n",
    "subset_class2 = class2.sample(45, random_state=seed)"
   ]
  },
  {
   "cell_type": "markdown",
   "id": "e13d8b59",
   "metadata": {},
   "source": [
    "### Creation of a new dataframe that contains the data from each of the subsets"
   ]
  },
  {
   "cell_type": "code",
   "execution_count": 9,
   "id": "96af5e18",
   "metadata": {},
   "outputs": [],
   "source": [
    "n_df = pd.concat([subset_class0, subset_class1, subset_class2])"
   ]
  },
  {
   "cell_type": "code",
   "execution_count": 10,
   "id": "6f93b521",
   "metadata": {},
   "outputs": [],
   "source": [
    "#Renaming the target column to wine type\n",
    "n_df = n_df.rename(columns={'target' : 'wine_type'})\n",
    "#Modifying the wine type column to be of a string\n",
    "n_df = n_df.astype({ 'wine_type' : 'string'})"
   ]
  },
  {
   "cell_type": "code",
   "execution_count": 11,
   "id": "06c44c59",
   "metadata": {},
   "outputs": [],
   "source": [
    "#### Relabeling the string values for the wine types within the dataset\n",
    "n_df.loc[n_df['wine_type'] == '0', 'wine_type'] = \"wine 0\"\n",
    "n_df.loc[n_df['wine_type'] == '1', 'wine_type'] = \"wine 1\"\n",
    "n_df.loc[n_df['wine_type'] == '2', 'wine_type'] = \"wine 2\""
   ]
  },
  {
   "cell_type": "code",
   "execution_count": 12,
   "id": "b054b6ea",
   "metadata": {},
   "outputs": [],
   "source": [
    "n_df = n_df[['alcohol', 'wine_type']]\n",
    "n_df = n_df.reset_index(drop=True)"
   ]
  },
  {
   "cell_type": "code",
   "execution_count": 13,
   "id": "fbd7acef",
   "metadata": {},
   "outputs": [
    {
     "data": {
      "text/html": [
       "<div>\n",
       "<style scoped>\n",
       "    .dataframe tbody tr th:only-of-type {\n",
       "        vertical-align: middle;\n",
       "    }\n",
       "\n",
       "    .dataframe tbody tr th {\n",
       "        vertical-align: top;\n",
       "    }\n",
       "\n",
       "    .dataframe thead th {\n",
       "        text-align: right;\n",
       "    }\n",
       "</style>\n",
       "<table border=\"1\" class=\"dataframe\">\n",
       "  <thead>\n",
       "    <tr style=\"text-align: right;\">\n",
       "      <th></th>\n",
       "      <th>alcohol</th>\n",
       "      <th>wine_type</th>\n",
       "    </tr>\n",
       "  </thead>\n",
       "  <tbody>\n",
       "    <tr>\n",
       "      <th>0</th>\n",
       "      <td>13.58</td>\n",
       "      <td>wine 0</td>\n",
       "    </tr>\n",
       "    <tr>\n",
       "      <th>1</th>\n",
       "      <td>13.83</td>\n",
       "      <td>wine 0</td>\n",
       "    </tr>\n",
       "    <tr>\n",
       "      <th>2</th>\n",
       "      <td>13.16</td>\n",
       "      <td>wine 0</td>\n",
       "    </tr>\n",
       "    <tr>\n",
       "      <th>3</th>\n",
       "      <td>14.39</td>\n",
       "      <td>wine 0</td>\n",
       "    </tr>\n",
       "    <tr>\n",
       "      <th>4</th>\n",
       "      <td>13.82</td>\n",
       "      <td>wine 0</td>\n",
       "    </tr>\n",
       "  </tbody>\n",
       "</table>\n",
       "</div>"
      ],
      "text/plain": [
       "   alcohol wine_type\n",
       "0    13.58    wine 0\n",
       "1    13.83    wine 0\n",
       "2    13.16    wine 0\n",
       "3    14.39    wine 0\n",
       "4    13.82    wine 0"
      ]
     },
     "execution_count": 13,
     "metadata": {},
     "output_type": "execute_result"
    }
   ],
   "source": [
    "n_df.head()"
   ]
  },
  {
   "cell_type": "markdown",
   "id": "76dcca3f",
   "metadata": {},
   "source": [
    "---"
   ]
  },
  {
   "cell_type": "markdown",
   "id": "aed55dae",
   "metadata": {},
   "source": [
    "## Establishing our hypothesis\n",
    "\n",
    "---"
   ]
  },
  {
   "cell_type": "markdown",
   "id": "ca5be008",
   "metadata": {},
   "source": [
    "H0: true mean **alcohol** levels are the *same* for the various wine types  \n",
    "H1: true mean **alcohol** levels are *not the same* for the various wine types"
   ]
  },
  {
   "cell_type": "markdown",
   "id": "06221f49",
   "metadata": {},
   "source": [
    "## ANOVA Assumptions\n",
    "\n",
    "---"
   ]
  },
  {
   "cell_type": "markdown",
   "id": "1199dc45",
   "metadata": {},
   "source": [
    "### Assumption 1\n",
    "The dependent variable should be of a **continous** value i.e., measured at the interval or ratio level."
   ]
  },
  {
   "cell_type": "code",
   "execution_count": 14,
   "id": "5c42ac53",
   "metadata": {},
   "outputs": [
    {
     "data": {
      "text/plain": [
       "0      13.58\n",
       "1      13.83\n",
       "2      13.16\n",
       "3      14.39\n",
       "4      13.82\n",
       "       ...  \n",
       "130    12.93\n",
       "131    14.34\n",
       "132    13.58\n",
       "133    12.53\n",
       "134    13.11\n",
       "Name: alcohol, Length: 135, dtype: float64"
      ]
     },
     "execution_count": 14,
     "metadata": {},
     "output_type": "execute_result"
    }
   ],
   "source": [
    "# The dependent variable\n",
    "dependent = n_df['alcohol']\n",
    "dependent"
   ]
  },
  {
   "cell_type": "code",
   "execution_count": 15,
   "id": "3b4da2b4",
   "metadata": {},
   "outputs": [
    {
     "data": {
      "text/plain": [
       "count    135.000000\n",
       "mean      13.063259\n",
       "std        0.780158\n",
       "min       11.460000\n",
       "25%       12.420000\n",
       "50%       13.050000\n",
       "75%       13.685000\n",
       "max       14.830000\n",
       "Name: alcohol, dtype: float64"
      ]
     },
     "execution_count": 15,
     "metadata": {},
     "output_type": "execute_result"
    }
   ],
   "source": [
    "dependent.describe()"
   ]
  },
  {
   "cell_type": "markdown",
   "id": "5f3b901f",
   "metadata": {},
   "source": [
    "### Assumption 2\n",
    "The independent variable should be of a **categorical** value and contain two or more categorical, independent groups.b"
   ]
  },
  {
   "cell_type": "code",
   "execution_count": 16,
   "id": "286f2395",
   "metadata": {},
   "outputs": [
    {
     "name": "stdout",
     "output_type": "stream",
     "text": [
      "<StringArray>\n",
      "['wine 0', 'wine 1', 'wine 2']\n",
      "Length: 3, dtype: string\n"
     ]
    }
   ],
   "source": [
    "# As previously highlighted, there are three categorical groups i.e., wine types\n",
    "independent = n_df['wine_type']\n",
    "\n",
    "print(independent.unique())"
   ]
  },
  {
   "cell_type": "markdown",
   "id": "7c9e4fe4",
   "metadata": {},
   "source": [
    "### Assumption 3\n",
    "There should be **indepence of observations** i.e., there should be no relationship between the observations in each group or between the groups themselves.\n",
    "\n",
    "The dataset meets this assumption."
   ]
  },
  {
   "cell_type": "markdown",
   "id": "9f9d2587",
   "metadata": {},
   "source": [
    "### Assumption 4\n",
    "There should be no significant outliers."
   ]
  },
  {
   "cell_type": "code",
   "execution_count": 17,
   "id": "f72d9219",
   "metadata": {},
   "outputs": [
    {
     "data": {
      "image/png": "[encoded data removed]",
      "text/plain": [
       "<Figure size 1440x360 with 1 Axes>"
      ]
     },
     "metadata": {
      "needs_background": "light"
     },
     "output_type": "display_data"
    }
   ],
   "source": [
    "sns.boxplot(x=dependent, y=n_df['wine_type'], palette=\"Set1\");"
   ]
  },
  {
   "cell_type": "markdown",
   "id": "932a99d7",
   "metadata": {},
   "source": [
    "### Assumption 5\n",
    "The dependent variable should be approximately normally distributed for each category of the independent variable."
   ]
  },
  {
   "cell_type": "code",
   "execution_count": 18,
   "id": "ccf8c077",
   "metadata": {},
   "outputs": [
    {
     "data": {
      "image/png": "[encoded data removed]",
      "text/plain": [
       "<Figure size 442.95x360 with 1 Axes>"
      ]
     },
     "metadata": {
      "needs_background": "light"
     },
     "output_type": "display_data"
    }
   ],
   "source": [
    "sns.displot(data=n_df, x=n_df['alcohol'], hue=\"wine_type\", kind='kde', fill=True, palette=\"Set1\");"
   ]
  },
  {
   "cell_type": "markdown",
   "id": "9adeaeb5",
   "metadata": {},
   "source": [
    "#### Shapiro-Wilk test for each categorical value"
   ]
  },
  {
   "cell_type": "code",
   "execution_count": 19,
   "id": "81e98d0e",
   "metadata": {},
   "outputs": [
    {
     "data": {
      "text/plain": [
       "ShapiroResult(statistic=0.9816116094589233, pvalue=0.6853755712509155)"
      ]
     },
     "execution_count": 19,
     "metadata": {},
     "output_type": "execute_result"
    }
   ],
   "source": [
    "ss.shapiro(dependent[independent == 'wine 0'])"
   ]
  },
  {
   "cell_type": "code",
   "execution_count": 20,
   "id": "9c06867c",
   "metadata": {},
   "outputs": [
    {
     "data": {
      "text/plain": [
       "ShapiroResult(statistic=0.9752582907676697, pvalue=0.4418913722038269)"
      ]
     },
     "execution_count": 20,
     "metadata": {},
     "output_type": "execute_result"
    }
   ],
   "source": [
    "ss.shapiro(dependent[independent == 'wine 1'])"
   ]
  },
  {
   "cell_type": "code",
   "execution_count": 21,
   "id": "8637640b",
   "metadata": {},
   "outputs": [
    {
     "data": {
      "text/plain": [
       "ShapiroResult(statistic=0.9815422296524048, pvalue=0.6825376749038696)"
      ]
     },
     "execution_count": 21,
     "metadata": {},
     "output_type": "execute_result"
    }
   ],
   "source": [
    "ss.shapiro(dependent[independent == 'wine 2'])"
   ]
  },
  {
   "cell_type": "markdown",
   "id": "5887ad31",
   "metadata": {},
   "source": [
    "### Assumption 6\n",
    "There needs to be homogeneity of variances"
   ]
  },
  {
   "cell_type": "code",
   "execution_count": 22,
   "id": "c91fe2a0",
   "metadata": {},
   "outputs": [
    {
     "data": {
      "text/plain": [
       "LeveneResult(statistic=0.7074817082087027, pvalue=0.4947430740742381)"
      ]
     },
     "execution_count": 22,
     "metadata": {},
     "output_type": "execute_result"
    }
   ],
   "source": [
    "# Test for equal variances.\n",
    "ss.levene(\n",
    "    dependent[independent == 'wine 0'],\n",
    "    dependent[independent == 'wine 1'],\n",
    "    dependent[independent == 'wine 2']\n",
    ")"
   ]
  },
  {
   "cell_type": "markdown",
   "id": "e77e823e",
   "metadata": {},
   "source": [
    "## ANOVA utilising the scipy.stats Python library\n",
    "---"
   ]
  },
  {
   "cell_type": "code",
   "execution_count": 23,
   "id": "ff0c7f81",
   "metadata": {},
   "outputs": [],
   "source": [
    "fstatistic, pvalue = f_oneway(dependent[independent == 'wine 0'], dependent[independent == 'wine 1'], dependent[independent == 'wine 2'])"
   ]
  },
  {
   "cell_type": "code",
   "execution_count": 24,
   "id": "4f02a781",
   "metadata": {},
   "outputs": [
    {
     "data": {
      "text/plain": [
       "102.65724406327112"
      ]
     },
     "execution_count": 24,
     "metadata": {},
     "output_type": "execute_result"
    }
   ],
   "source": [
    "#The computed F statistic of the test.\n",
    "fstatistic"
   ]
  },
  {
   "cell_type": "code",
   "execution_count": 25,
   "id": "22af653f",
   "metadata": {},
   "outputs": [
    {
     "data": {
      "text/plain": [
       "1.2810609123091256e-27"
      ]
     },
     "execution_count": 25,
     "metadata": {},
     "output_type": "execute_result"
    }
   ],
   "source": [
    "#The associated p-value from the F distribution.\n",
    "pvalue"
   ]
  },
  {
   "cell_type": "markdown",
   "id": "504c4dbb",
   "metadata": {},
   "source": [
    "## ANOVA utilising the statsmodels Python library\n",
    "---"
   ]
  },
  {
   "cell_type": "code",
   "execution_count": 26,
   "id": "526f52b8",
   "metadata": {},
   "outputs": [],
   "source": [
    "#Modifying the wine type column to be of type object\n",
    "n_df = n_df.astype({ 'wine_type' : 'object'})"
   ]
  },
  {
   "cell_type": "code",
   "execution_count": 27,
   "id": "d67ded5a",
   "metadata": {},
   "outputs": [],
   "source": [
    "model = ols('alcohol ~ wine_type', data=n_df).fit()\n",
    "\n",
    "anova_result = sm.stats.anova_lm(model, typ=2)"
   ]
  },
  {
   "cell_type": "code",
   "execution_count": 28,
   "id": "e83394e9",
   "metadata": {
    "scrolled": false
   },
   "outputs": [
    {
     "data": {
      "text/html": [
       "<div>\n",
       "<style scoped>\n",
       "    .dataframe tbody tr th:only-of-type {\n",
       "        vertical-align: middle;\n",
       "    }\n",
       "\n",
       "    .dataframe tbody tr th {\n",
       "        vertical-align: top;\n",
       "    }\n",
       "\n",
       "    .dataframe thead th {\n",
       "        text-align: right;\n",
       "    }\n",
       "</style>\n",
       "<table border=\"1\" class=\"dataframe\">\n",
       "  <thead>\n",
       "    <tr style=\"text-align: right;\">\n",
       "      <th></th>\n",
       "      <th>sum_sq</th>\n",
       "      <th>df</th>\n",
       "      <th>F</th>\n",
       "      <th>PR(&gt;F)</th>\n",
       "    </tr>\n",
       "  </thead>\n",
       "  <tbody>\n",
       "    <tr>\n",
       "      <th>wine_type</th>\n",
       "      <td>49.642561</td>\n",
       "      <td>2.0</td>\n",
       "      <td>102.657244</td>\n",
       "      <td>1.281061e-27</td>\n",
       "    </tr>\n",
       "    <tr>\n",
       "      <th>Residual</th>\n",
       "      <td>31.916004</td>\n",
       "      <td>132.0</td>\n",
       "      <td>NaN</td>\n",
       "      <td>NaN</td>\n",
       "    </tr>\n",
       "  </tbody>\n",
       "</table>\n",
       "</div>"
      ],
      "text/plain": [
       "              sum_sq     df           F        PR(>F)\n",
       "wine_type  49.642561    2.0  102.657244  1.281061e-27\n",
       "Residual   31.916004  132.0         NaN           NaN"
      ]
     },
     "execution_count": 28,
     "metadata": {},
     "output_type": "execute_result"
    }
   ],
   "source": [
    "anova_result"
   ]
  },
  {
   "cell_type": "markdown",
   "id": "68951ae2",
   "metadata": {},
   "source": [
    "With our p-value being **less** than that of *0.001*, we can reject the null hypothesis and propose that the true mean alcohol levels are not the same for the various wine types."
   ]
  },
  {
   "cell_type": "markdown",
   "id": "1ae52c5f",
   "metadata": {},
   "source": [
    "---"
   ]
  },
  {
   "cell_type": "markdown",
   "id": "d8a7b74c",
   "metadata": {},
   "source": [
    "# References\n",
    "---"
   ]
  },
  {
   "cell_type": "markdown",
   "id": "9cf10f82",
   "metadata": {},
   "source": [
    "Bobbitt, Z (2020) How to Perform a One-Way ANOVA in Python. Available at: https://www.statology.org/one-way-anova-python/ (Accessed: 1 August 2022).  \n",
    "\n",
    "Bobbitt, Z (2018) Introduction to Hypothesis Testing. Available at: https://www.statology.org/hypothesis-testing/ (Accessed: 1 August 2022).  \n",
    "\n",
    "laerd statistics (no date) One-way ANOVA in SPSS Statistics. Available at: https://statistics.laerd.com/spss-tutorials/one-way-anova-using-spss-statistics.php (Accessed: 1 August 2022).  \n",
    "\n",
    "statsmodels user guide (no date) ANOVA. Available at: https://www.statsmodels.org/stable/anova.html#examples (Accessed: 1 August 2022).  \n"
   ]
  }
 ],
 "metadata": {
  "kernelspec": {
   "display_name": "Python 3",
   "language": "python",
   "name": "python3"
  },
  "language_info": {
   "codemirror_mode": {
    "name": "ipython",
    "version": 3
   },
   "file_extension": ".py",
   "mimetype": "text/x-python",
   "name": "python",
   "nbconvert_exporter": "python",
   "pygments_lexer": "ipython3",
   "version": "3.8.8"
  }
 },
 "nbformat": 4,
 "nbformat_minor": 5
}
