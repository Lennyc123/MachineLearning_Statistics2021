{
 "cells": [
  {
   "cell_type": "markdown",
   "id": "e3b79b5d-641d-4920-914b-232447459cfd",
   "metadata": {},
   "source": [
    "# Required - "
   ]
  },
  {
   "cell_type": "markdown",
   "id": "d9382b54-9180-4ba8-aa88-5037d7374eeb",
   "metadata": {},
   "source": [
    "* Overview of scikit-learn python library"
   ]
  },
  {
   "cell_type": "markdown",
   "id": "a5ecf1d4-daa7-4b52-af67-976d6e5380a5",
   "metadata": {},
   "source": [
    "Training set and testing set"
   ]
  },
  {
   "cell_type": "markdown",
   "id": "97a61ece-528c-48d2-9183-c0907cb6edad",
   "metadata": {},
   "source": [
    "Machine learning - Common pratice\n",
    "Evaluate an algorithm by spillting a data set into two."
   ]
  },
  {
   "cell_type": "markdown",
   "id": "448de4fd-fa78-4735-b462-93879833050f",
   "metadata": {},
   "source": [
    "Training set: learn some properties."
   ]
  },
  {
   "cell_type": "markdown",
   "id": "50463261-2835-454c-b123-c02a4ae28542",
   "metadata": {},
   "source": [
    "Testing set: test the learned properties."
   ]
  },
  {
   "cell_type": "markdown",
   "id": "69fbcc7f-622e-44c9-bd1b-d6301ff13b80",
   "metadata": {},
   "source": [
    "***"
   ]
  },
  {
   "cell_type": "markdown",
   "id": "5242af0f-b398-4f7d-9368-2148cc9139b1",
   "metadata": {},
   "source": [
    "### Loading an example dataset"
   ]
  },
  {
   "cell_type": "code",
   "execution_count": 1,
   "id": "c8874c30-b522-4f14-9509-ab1e05d9650e",
   "metadata": {},
   "outputs": [],
   "source": [
    "from sklearn import datasets"
   ]
  },
  {
   "cell_type": "code",
   "execution_count": 2,
   "id": "4e2c6e22-2008-49fd-bc89-3767b8b344db",
   "metadata": {},
   "outputs": [],
   "source": [
    "iris = datasets.load_iris()"
   ]
  },
  {
   "cell_type": "code",
   "execution_count": 3,
   "id": "b029f732-a43f-443a-ab44-1b567da39184",
   "metadata": {},
   "outputs": [],
   "source": [
    "digits = datasets.load_digits()"
   ]
  },
  {
   "cell_type": "code",
   "execution_count": 4,
   "id": "c687e204-4006-4b8a-977f-83bc426b6c90",
   "metadata": {},
   "outputs": [
    {
     "data": {
      "text/plain": [
       "array([[ 0.,  0.,  5., ...,  0.,  0.,  0.],\n",
       "       [ 0.,  0.,  0., ..., 10.,  0.,  0.],\n",
       "       [ 0.,  0.,  0., ..., 16.,  9.,  0.],\n",
       "       ...,\n",
       "       [ 0.,  0.,  1., ...,  6.,  0.,  0.],\n",
       "       [ 0.,  0.,  2., ..., 12.,  0.,  0.],\n",
       "       [ 0.,  0., 10., ..., 12.,  1.,  0.]])"
      ]
     },
     "execution_count": 4,
     "metadata": {},
     "output_type": "execute_result"
    }
   ],
   "source": [
    "digits.data"
   ]
  },
  {
   "cell_type": "code",
   "execution_count": 5,
   "id": "97d1add9-bdea-4c85-b123-1d1728ee6155",
   "metadata": {},
   "outputs": [
    {
     "data": {
      "text/plain": [
       "array([0, 1, 2, ..., 8, 9, 8])"
      ]
     },
     "execution_count": 5,
     "metadata": {},
     "output_type": "execute_result"
    }
   ],
   "source": [
    "digits.target"
   ]
  },
  {
   "cell_type": "markdown",
   "id": "a0a2b9dd-9535-448c-ae75-bc36e9a19814",
   "metadata": {},
   "source": [
    "target provides the ground truth i.e., the number corresponding to each digit image we are trying to learn"
   ]
  },
  {
   "cell_type": "code",
   "execution_count": 9,
   "id": "53d0a4e1-613a-4be8-b3f4-3bcec39c9933",
   "metadata": {},
   "outputs": [
    {
     "data": {
      "text/plain": [
       "array([[ 0.,  0.,  5., 13.,  9.,  1.,  0.,  0.],\n",
       "       [ 0.,  0., 13., 15., 10., 15.,  5.,  0.],\n",
       "       [ 0.,  3., 15.,  2.,  0., 11.,  8.,  0.],\n",
       "       [ 0.,  4., 12.,  0.,  0.,  8.,  8.,  0.],\n",
       "       [ 0.,  5.,  8.,  0.,  0.,  9.,  8.,  0.],\n",
       "       [ 0.,  4., 11.,  0.,  1., 12.,  7.,  0.],\n",
       "       [ 0.,  2., 14.,  5., 10., 12.,  0.,  0.],\n",
       "       [ 0.,  0.,  6., 13., 10.,  0.,  0.,  0.]])"
      ]
     },
     "execution_count": 9,
     "metadata": {},
     "output_type": "execute_result"
    }
   ],
   "source": [
    "digits.images[0]"
   ]
  },
  {
   "cell_type": "code",
   "execution_count": 10,
   "id": "80db6053-8796-4fd8-89f5-5a23daebf577",
   "metadata": {},
   "outputs": [
    {
     "data": {
      "text/plain": [
       "array([[ 0.,  0.,  0., 12., 13.,  5.,  0.,  0.],\n",
       "       [ 0.,  0.,  0., 11., 16.,  9.,  0.,  0.],\n",
       "       [ 0.,  0.,  3., 15., 16.,  6.,  0.,  0.],\n",
       "       [ 0.,  7., 15., 16., 16.,  2.,  0.,  0.],\n",
       "       [ 0.,  0.,  1., 16., 16.,  3.,  0.,  0.],\n",
       "       [ 0.,  0.,  1., 16., 16.,  6.,  0.,  0.],\n",
       "       [ 0.,  0.,  1., 16., 16.,  6.,  0.,  0.],\n",
       "       [ 0.,  0.,  0., 11., 16., 10.,  0.,  0.]])"
      ]
     },
     "execution_count": 10,
     "metadata": {},
     "output_type": "execute_result"
    }
   ],
   "source": [
    "digits.images[1]"
   ]
  },
  {
   "cell_type": "code",
   "execution_count": null,
   "id": "e2d76cf9-d34c-47ee-a06c-57523f6fc36f",
   "metadata": {},
   "outputs": [],
   "source": []
  },
  {
   "cell_type": "code",
   "execution_count": null,
   "id": "212512d3-3dda-46fe-9df4-8593f17a845d",
   "metadata": {},
   "outputs": [],
   "source": []
  },
  {
   "cell_type": "code",
   "execution_count": null,
   "id": "463d7005-6bcb-4c40-9b29-d35d78556394",
   "metadata": {},
   "outputs": [],
   "source": []
  },
  {
   "cell_type": "code",
   "execution_count": null,
   "id": "7e479f78-4d4c-4e10-bd25-1e73c699ed47",
   "metadata": {},
   "outputs": [],
   "source": []
  },
  {
   "cell_type": "code",
   "execution_count": null,
   "id": "87e96e77-0835-437a-bebc-b86de11f63f2",
   "metadata": {},
   "outputs": [],
   "source": []
  },
  {
   "cell_type": "code",
   "execution_count": null,
   "id": "5f6426a1-8d33-4e19-8b16-f9754acf2583",
   "metadata": {},
   "outputs": [],
   "source": []
  },
  {
   "cell_type": "code",
   "execution_count": null,
   "id": "370127df-da34-4a74-9fa3-1ad48abae033",
   "metadata": {},
   "outputs": [],
   "source": []
  },
  {
   "cell_type": "code",
   "execution_count": null,
   "id": "e38ab42f-504f-45bd-8e62-1f2f21fbc39d",
   "metadata": {},
   "outputs": [],
   "source": []
  },
  {
   "cell_type": "code",
   "execution_count": null,
   "id": "f0f34938-e235-407a-b236-6f301e804937",
   "metadata": {},
   "outputs": [],
   "source": []
  },
  {
   "cell_type": "markdown",
   "id": "58efa7c3-c07e-4c9f-8ef9-1eb45e4c1ece",
   "metadata": {},
   "source": [
    "* 3 scikit-learn algorithms - demonstrations "
   ]
  },
  {
   "cell_type": "code",
   "execution_count": null,
   "id": "4362efef-539c-482f-8b6b-7bb6362b7bfc",
   "metadata": {},
   "outputs": [],
   "source": []
  },
  {
   "cell_type": "code",
   "execution_count": null,
   "id": "314c5f58-dbdb-495d-85dc-7e707d4e1a17",
   "metadata": {},
   "outputs": [],
   "source": []
  },
  {
   "cell_type": "markdown",
   "id": "4d963f52-9673-42fb-b0e1-db6343ebc39d",
   "metadata": {},
   "source": [
    "***"
   ]
  },
  {
   "cell_type": "markdown",
   "id": "c29df9ea-0bbf-4f29-b7da-d76de1588907",
   "metadata": {},
   "source": [
    "# End"
   ]
  },
  {
   "cell_type": "markdown",
   "id": "79645eef-f33a-4691-b218-d6cee8c18471",
   "metadata": {},
   "source": [
    "***"
   ]
  },
  {
   "cell_type": "markdown",
   "id": "82c1b1ed-28ca-4aed-b1ac-f92cae4e5722",
   "metadata": {},
   "source": [
    "# References"
   ]
  },
  {
   "cell_type": "code",
   "execution_count": null,
   "id": "936b764f-a92c-4f22-b826-a9dbd141bb04",
   "metadata": {},
   "outputs": [],
   "source": []
  }
 ],
 "metadata": {
  "kernelspec": {
   "display_name": "Python 3",
   "language": "python",
   "name": "python3"
  },
  "language_info": {
   "codemirror_mode": {
    "name": "ipython",
    "version": 3
   },
   "file_extension": ".py",
   "mimetype": "text/x-python",
   "name": "python",
   "nbconvert_exporter": "python",
   "pygments_lexer": "ipython3",
   "version": "3.8.8"
  }
 },
 "nbformat": 4,
 "nbformat_minor": 5
}
